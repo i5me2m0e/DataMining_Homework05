{
 "cells": [
  {
   "cell_type": "code",
   "execution_count": 6,
   "id": "a0328dca-d388-45cf-af9b-426084d78032",
   "metadata": {},
   "outputs": [
    {
     "name": "stdout",
     "output_type": "stream",
     "text": [
      "User 15 similarity with movie 95: 0.0000, distance: 1.0000\n",
      "User 200 similarity with movie 95: 0.0768, distance: 0.9232\n",
      "Recommend movie 95 to user 200.\n"
     ]
    }
   ],
   "source": [
    "import numpy as np\n",
    "\n",
    "# 电影总数\n",
    "num_movies = utility_matrix.shape[1]  # 1682\n",
    "\n",
    "# 用户 15 和 200 的中心化画像（长度1682）\n",
    "user_15_profile = centered_matrix.loc[15].fillna(0).values\n",
    "user_200_profile = centered_matrix.loc[200].fillna(0).values\n",
    "\n",
    "# 构造电影 95 的 one-hot 向量 (长度1682)\n",
    "movie_95_profile = np.zeros(num_movies)\n",
    "movie_index = utility_matrix.columns.get_loc(95)  # 找到电影95在列中的索引\n",
    "movie_95_profile[movie_index] = 1\n",
    "\n",
    "from scipy.spatial.distance import cosine\n",
    "\n",
    "# 计算余弦相似度和距离\n",
    "similarity_15 = 1 - cosine(user_15_profile, movie_95_profile)\n",
    "distance_15 = cosine(user_15_profile, movie_95_profile)\n",
    "\n",
    "similarity_200 = 1 - cosine(user_200_profile, movie_95_profile)\n",
    "distance_200 = cosine(user_200_profile, movie_95_profile)\n",
    "\n",
    "print(f\"User 15 similarity with movie 95: {similarity_15:.4f}, distance: {distance_15:.4f}\")\n",
    "print(f\"User 200 similarity with movie 95: {similarity_200:.4f}, distance: {distance_200:.4f}\")\n",
    "\n",
    "# 推荐给相似度更高的用户\n",
    "recommended_user = 15 if similarity_15 > similarity_200 else 200\n",
    "print(f\"Recommend movie 95 to user {recommended_user}.\")\n"
   ]
  },
  {
   "cell_type": "code",
   "execution_count": null,
   "id": "011ba034-67f0-4bab-b0bb-a6d43eeb33d2",
   "metadata": {},
   "outputs": [],
   "source": []
  }
 ],
 "metadata": {
  "kernelspec": {
   "display_name": "Python 3 (ipykernel)",
   "language": "python",
   "name": "python3"
  },
  "language_info": {
   "codemirror_mode": {
    "name": "ipython",
    "version": 3
   },
   "file_extension": ".py",
   "mimetype": "text/x-python",
   "name": "python",
   "nbconvert_exporter": "python",
   "pygments_lexer": "ipython3",
   "version": "3.11.5"
  }
 },
 "nbformat": 4,
 "nbformat_minor": 5
}
