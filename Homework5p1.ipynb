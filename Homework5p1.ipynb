{
 "cells": [
  {
   "cell_type": "code",
   "execution_count": 8,
   "id": "ad38b6b6-1f6d-43ec-9c30-eb2a36d7ee4a",
   "metadata": {},
   "outputs": [
    {
     "name": "stdout",
     "output_type": "stream",
     "text": [
      "----- Problem 1 -----\n",
      "Top 10 similar users to user 1: [773, 868, 592, 880, 429, 276, 916, 222, 457, 8]\n",
      "Expected rating of user 1 for item 508: 4.20\n"
     ]
    }
   ],
   "source": [
    "import pandas as pd\n",
    "import numpy as np\n",
    "from sklearn.metrics.pairwise import cosine_similarity\n",
    "\n",
    "# -------------------------------\n",
    "# Step 1: Load the ratings data\n",
    "# -------------------------------\n",
    "columns = ['user_id', 'item_id', 'rating', 'timestamp']\n",
    "ratings = pd.read_csv('u.data', sep='\\t', names=columns)\n",
    "\n",
    "# Create the utility matrix (users as rows, items as columns)\n",
    "utility_matrix = ratings.pivot_table(index='user_id', columns='item_id', values='rating')\n",
    "\n",
    "# -------------------------------\n",
    "# Step 2: Center ratings by user mean\n",
    "# -------------------------------\n",
    "user_means = utility_matrix.mean(axis=1)\n",
    "centered_matrix = utility_matrix.sub(user_means, axis=0)\n",
    "\n",
    "# Fill missing values with 0 for similarity computation\n",
    "filled_centered = centered_matrix.fillna(0)\n",
    "\n",
    "# Compute cosine similarity between users\n",
    "user_sim = cosine_similarity(filled_centered)\n",
    "\n",
    "# -------------------------------\n",
    "# Step 3: Find top 10 similar users to user 1\n",
    "# -------------------------------\n",
    "user1_index = utility_matrix.index.get_loc(1)  # correct index of user_id = 1\n",
    "similarities = list(enumerate(user_sim[user1_index]))\n",
    "similarities = sorted(similarities, key=lambda x: x[1], reverse=True)\n",
    "\n",
    "# Exclude user 1 and take top 10\n",
    "top_10_users = [i for i, sim in similarities[1:11]]\n",
    "similar_user_ids = [utility_matrix.index[i] for i in top_10_users]  # get actual user_ids\n",
    "\n",
    "# -------------------------------\n",
    "# Step 4: Predict rating for item 508\n",
    "# -------------------------------\n",
    "item_id = 508\n",
    "ratings_508 = utility_matrix.loc[similar_user_ids, item_id]\n",
    "expected_rating = ratings_508.dropna().mean()\n",
    "\n",
    "# -------------------------------\n",
    "# Output result\n",
    "# -------------------------------\n",
    "print(\"----- Problem 1 -----\")\n",
    "print(\"Top 10 similar users to user 1:\", similar_user_ids)\n",
    "print(f\"Expected rating of user 1 for item 508: {expected_rating:.2f}\")\n"
   ]
  },
  {
   "cell_type": "code",
   "execution_count": null,
   "id": "cab349f6-c2f3-457c-a380-d0ba73e7f495",
   "metadata": {},
   "outputs": [],
   "source": []
  }
 ],
 "metadata": {
  "kernelspec": {
   "display_name": "Python 3 (ipykernel)",
   "language": "python",
   "name": "python3"
  },
  "language_info": {
   "codemirror_mode": {
    "name": "ipython",
    "version": 3
   },
   "file_extension": ".py",
   "mimetype": "text/x-python",
   "name": "python",
   "nbconvert_exporter": "python",
   "pygments_lexer": "ipython3",
   "version": "3.11.5"
  }
 },
 "nbformat": 4,
 "nbformat_minor": 5
}
